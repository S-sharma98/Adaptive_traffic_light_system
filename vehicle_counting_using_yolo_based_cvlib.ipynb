{
  "nbformat": 4,
  "nbformat_minor": 0,
  "metadata": {
    "colab": {
      "name": "vehicle_counting_part.ipynb",
      "provenance": [],
      "collapsed_sections": []
    },
    "kernelspec": {
      "name": "python3",
      "display_name": "Python 3"
    }
  },
  "cells": [
    {
      "cell_type": "code",
      "metadata": {
        "id": "s9MZNAKHqbUx",
        "colab_type": "code",
        "outputId": "affedaef-27d2-495c-af3e-29fe9f7702e3",
        "colab": {
          "base_uri": "https://localhost:8080/",
          "height": 54
        }
      },
      "source": [
        "from google.colab import drive\n",
        "drive.mount('/content/gdrive')"
      ],
      "execution_count": 10,
      "outputs": [
        {
          "output_type": "stream",
          "text": [
            "Drive already mounted at /content/gdrive; to attempt to forcibly remount, call drive.mount(\"/content/gdrive\", force_remount=True).\n"
          ],
          "name": "stdout"
        }
      ]
    },
    {
      "cell_type": "code",
      "metadata": {
        "id": "n2EZTqhvrtma",
        "colab_type": "code",
        "outputId": "17822f75-f783-49e2-9d5f-3f530981f67a",
        "colab": {
          "base_uri": "https://localhost:8080/",
          "height": 224
        }
      },
      "source": [
        "pip install cvlib"
      ],
      "execution_count": 11,
      "outputs": [
        {
          "output_type": "stream",
          "text": [
            "Requirement already satisfied: cvlib in /usr/local/lib/python3.6/dist-packages (0.2.5)\n",
            "Requirement already satisfied: imutils in /usr/local/lib/python3.6/dist-packages (from cvlib) (0.5.3)\n",
            "Requirement already satisfied: pillow in /usr/local/lib/python3.6/dist-packages (from cvlib) (7.0.0)\n",
            "Requirement already satisfied: numpy in /usr/local/lib/python3.6/dist-packages (from cvlib) (1.18.4)\n",
            "Requirement already satisfied: imageio in /usr/local/lib/python3.6/dist-packages (from cvlib) (2.4.1)\n",
            "Requirement already satisfied: progressbar in /usr/local/lib/python3.6/dist-packages (from cvlib) (2.5)\n",
            "Requirement already satisfied: requests in /usr/local/lib/python3.6/dist-packages (from cvlib) (2.23.0)\n",
            "Requirement already satisfied: urllib3!=1.25.0,!=1.25.1,<1.26,>=1.21.1 in /usr/local/lib/python3.6/dist-packages (from requests->cvlib) (1.24.3)\n",
            "Requirement already satisfied: idna<3,>=2.5 in /usr/local/lib/python3.6/dist-packages (from requests->cvlib) (2.9)\n",
            "Requirement already satisfied: certifi>=2017.4.17 in /usr/local/lib/python3.6/dist-packages (from requests->cvlib) (2020.4.5.1)\n",
            "Requirement already satisfied: chardet<4,>=3.0.2 in /usr/local/lib/python3.6/dist-packages (from requests->cvlib) (3.0.4)\n"
          ],
          "name": "stdout"
        }
      ]
    },
    {
      "cell_type": "code",
      "metadata": {
        "id": "NeNXEoB4rtuh",
        "colab_type": "code",
        "colab": {}
      },
      "source": [
        "import os\n",
        "import pprint as pp\n",
        "import csv\n",
        "import matplotlib.pyplot as plt\n",
        "import tensorflow as tf\n",
        "import cv2\n",
        "import cvlib as cv \n",
        "import numpy as np"
      ],
      "execution_count": 0,
      "outputs": []
    },
    {
      "cell_type": "code",
      "metadata": {
        "id": "cDpvv4t9rts1",
        "colab_type": "code",
        "colab": {}
      },
      "source": [
        "from cvlib.object_detection import draw_bbox"
      ],
      "execution_count": 0,
      "outputs": []
    },
    {
      "cell_type": "code",
      "metadata": {
        "id": "58i7eg9KI6c0",
        "colab_type": "code",
        "colab": {}
      },
      "source": [
        "input_path =f'./gdrive/My Drive/model'\n",
        "output_path  = f'./gdrive/My Drive/output_images'\n",
        "img_cnt = 1"
      ],
      "execution_count": 0,
      "outputs": []
    },
    {
      "cell_type": "code",
      "metadata": {
        "id": "VXEsJjdpaLVb",
        "colab_type": "code",
        "colab": {
          "base_uri": "https://localhost:8080/",
          "height": 221
        },
        "outputId": "72fcf6cc-9547-470a-b82c-1be5b43859e1"
      },
      "source": [
        "for filename in os.listdir(input_path):\n",
        "    if filename.endswith(\".jpg\") or filename.endswith(\".png\"):\n",
        "        car = 0\n",
        "        bus = 0\n",
        "        truck = 0\n",
        "        img_file=os.path.join(input_path, filename) \n",
        "        original_img = cv2.imread(img_file)\n",
        "        original_img = cv2.cvtColor(original_img, cv2.COLOR_BGR2RGB)\n",
        "        img=cv2.resize(original_img,(416,416))\n",
        "        \n",
        "        \n",
        "        bbox, label, conf = cv.detect_common_objects(img)\n",
        "        output_image = draw_bbox(img, bbox, label, conf)\n",
        "\n",
        "        cv2.imwrite(os.path.join(output_path , 'out'+ str(img_cnt) + '.jpg'), output_image)\n",
        "        img_cnt+=1\n",
        "\n",
        "        for element in label:\n",
        "            if element == \"car\":\n",
        "                car = car+1\n",
        "            elif element == \"bus\":\n",
        "                bus = bus +1\n",
        "            elif element == \"truck\":\n",
        "                truck = truck + 1\n",
        "        \n",
        "        total = car + bus + truck\n",
        "\n",
        "        a = {\"filename\":filename, \"cars\":car , \"bus\":bus , \"truck\":truck , \"total_vehicle\":total}\n",
        "\n",
        "        print(a)\n",
        "        \n",
        "\n",
        "        \n",
        "    else:\n",
        "        continue"
      ],
      "execution_count": 21,
      "outputs": [
        {
          "output_type": "stream",
          "text": [
            "{'filename': '2.jpg', 'cars': 19, 'bus': 1, 'truck': 1, 'total_vehicle': 21}\n",
            "{'filename': '4.jpg', 'cars': 14, 'bus': 0, 'truck': 3, 'total_vehicle': 17}\n",
            "{'filename': '3.jpg', 'cars': 14, 'bus': 0, 'truck': 3, 'total_vehicle': 17}\n",
            "{'filename': '1.jpg', 'cars': 7, 'bus': 6, 'truck': 5, 'total_vehicle': 18}\n",
            "{'filename': '5.jpg', 'cars': 1, 'bus': 6, 'truck': 4, 'total_vehicle': 11}\n",
            "{'filename': '6.jpg', 'cars': 1, 'bus': 6, 'truck': 4, 'total_vehicle': 11}\n",
            "{'filename': '10.jpg', 'cars': 8, 'bus': 4, 'truck': 2, 'total_vehicle': 14}\n",
            "{'filename': '12.jpg', 'cars': 14, 'bus': 1, 'truck': 0, 'total_vehicle': 15}\n",
            "{'filename': '13.jpg', 'cars': 1, 'bus': 0, 'truck': 2, 'total_vehicle': 3}\n",
            "{'filename': '15.jpg', 'cars': 0, 'bus': 0, 'truck': 0, 'total_vehicle': 0}\n",
            "{'filename': '16.jpg', 'cars': 0, 'bus': 0, 'truck': 0, 'total_vehicle': 0}\n",
            "{'filename': '17.jpg', 'cars': 14, 'bus': 0, 'truck': 3, 'total_vehicle': 17}\n"
          ],
          "name": "stdout"
        }
      ]
    },
    {
      "cell_type": "code",
      "metadata": {
        "id": "Y8ja5tUob5Wc",
        "colab_type": "code",
        "colab": {}
      },
      "source": [
        ""
      ],
      "execution_count": 0,
      "outputs": []
    }
  ]
}