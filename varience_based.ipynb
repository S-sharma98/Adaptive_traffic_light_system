{
 "cells": [
  {
   "cell_type": "code",
   "execution_count": 1,
   "metadata": {},
   "outputs": [],
   "source": [
    "import sys\n",
    "import time"
   ]
  },
  {
   "cell_type": "code",
   "execution_count": 2,
   "metadata": {},
   "outputs": [],
   "source": [
    "def calculate_timings(vehicles , total_time):\n",
    "    total_vehicle = 0\n",
    "    for vehicle in vehicles:\n",
    "        total_vehicle += vehicle\n",
    "    a = vehicles[0]/total_vehicle\n",
    "    b = vehicles[1]/total_vehicle\n",
    "    c = vehicles[2]/total_vehicle\n",
    "    d = vehicles[3]/total_vehicle\n",
    "    \n",
    "    \n",
    "    t1 = round(total_time*a)\n",
    "    t2 = round(total_time*b)\n",
    "    t3 = round(total_time*c)\n",
    "    t4 = round(total_time*d)\n",
    "    \n",
    "    \n",
    "    return t1,t2,t3,t4"
   ]
  },
  {
   "cell_type": "code",
   "execution_count": 3,
   "metadata": {},
   "outputs": [],
   "source": [
    "vehicles=[[21,17,17,18],[11,14,15,17],[1,2,4,30]]"
   ]
  },
  {
   "cell_type": "code",
   "execution_count": 4,
   "metadata": {},
   "outputs": [],
   "source": [
    "TIME = 200"
   ]
  },
  {
   "cell_type": "code",
   "execution_count": 5,
   "metadata": {},
   "outputs": [
    {
     "name": "stdout",
     "output_type": "stream",
     "text": [
      "len1 - green -  58\n",
      "len2 - red -  58\n",
      "len3 - red -  105\n",
      "len4 - red -  152\n",
      "\n",
      "\n",
      "len1 - red -  200\n",
      "len2 - green -  47\n",
      "len3 - red -  47\n",
      "len4 - red -  94\n",
      "\n",
      "\n",
      "len1 - red -  153\n",
      "len2 - red -  200\n",
      "len3 - green -  47\n",
      "len4 - red -  47\n",
      "\n",
      "\n",
      "len1 - red -  106\n",
      "len2 - red -  153\n",
      "len3 - red -  200\n",
      "len4 - green -  49\n",
      "\n",
      "\n",
      "len1 - green -  39\n",
      "len2 - red -  39\n",
      "len3 - red -  88\n",
      "len4 - red -  141\n",
      "\n",
      "\n",
      "len1 - red -  200\n",
      "len2 - green -  49\n",
      "len3 - red -  49\n",
      "len4 - red -  102\n",
      "\n",
      "\n",
      "len1 - red -  151\n",
      "len2 - red -  200\n",
      "len3 - green -  53\n",
      "len4 - red -  53\n",
      "\n",
      "\n",
      "len1 - red -  98\n",
      "len2 - red -  147\n",
      "len3 - red -  200\n",
      "len4 - green -  60\n",
      "\n",
      "\n",
      "len1 - green -  5\n",
      "len2 - red -  5\n",
      "len3 - red -  16\n",
      "len4 - red -  38\n",
      "\n",
      "\n",
      "len1 - red -  200\n",
      "len2 - green -  11\n",
      "len3 - red -  11\n",
      "len4 - red -  33\n",
      "\n",
      "\n",
      "len1 - red -  189\n",
      "len2 - red -  200\n",
      "len3 - green -  22\n",
      "len4 - red -  22\n",
      "\n",
      "\n",
      "len1 - red -  167\n",
      "len2 - red -  178\n",
      "len3 - red -  200\n",
      "len4 - green -  162\n",
      "\n",
      "\n"
     ]
    }
   ],
   "source": [
    "for i in vehicles:\n",
    "    t1,t2,t3,t4 = calculate_timings(i , TIME)\n",
    "    for j in range(1):\n",
    "        print(\"len1 - green - \" , t1)\n",
    "        print(\"len2 - red - \" , t1)\n",
    "        print(\"len3 - red - \" , t1+t2)\n",
    "        print(\"len4 - red - \" , t1+t2+t3)\n",
    "    print(\"\\n\")\n",
    "        \n",
    "    for k in range(1):\n",
    "        print(\"len1 - red - \" , TIME)\n",
    "        print(\"len2 - green - \" , t2)\n",
    "        print(\"len3 - red - \" , t2)\n",
    "        print(\"len4 - red - \" , t2+t3)\n",
    "    print(\"\\n\")\n",
    "        \n",
    "    for l in range(1):\n",
    "        print(\"len1 - red - \" , TIME-t2)\n",
    "        print(\"len2 - red - \" , TIME)\n",
    "        print(\"len3 - green - \" , t3)\n",
    "        print(\"len4 - red - \" , t3)\n",
    "    print(\"\\n\")\n",
    "    for m in range(1):\n",
    "        print(\"len1 - red - \" , (TIME - (t2+t3)))\n",
    "        print(\"len2 - red - \" , TIME-t3)\n",
    "        print(\"len3 - red - \" , TIME)\n",
    "        print(\"len4 - green - \" , t4)\n",
    "    print(\"\\n\")"
   ]
  },
  {
   "cell_type": "code",
   "execution_count": null,
   "metadata": {},
   "outputs": [],
   "source": []
  }
 ],
 "metadata": {
  "kernelspec": {
   "display_name": "Python 3",
   "language": "python",
   "name": "python3"
  },
  "language_info": {
   "codemirror_mode": {
    "name": "ipython",
    "version": 3
   },
   "file_extension": ".py",
   "mimetype": "text/x-python",
   "name": "python",
   "nbconvert_exporter": "python",
   "pygments_lexer": "ipython3",
   "version": "3.7.6"
  }
 },
 "nbformat": 4,
 "nbformat_minor": 4
}
