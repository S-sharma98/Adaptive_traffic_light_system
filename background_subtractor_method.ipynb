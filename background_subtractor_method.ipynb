{
 "cells": [
  {
   "cell_type": "code",
   "execution_count": 19,
   "metadata": {},
   "outputs": [],
   "source": [
    "import cv2"
   ]
  },
  {
   "cell_type": "code",
   "execution_count": 20,
   "metadata": {},
   "outputs": [],
   "source": [
    "import numpy as np"
   ]
  },
  {
   "cell_type": "code",
   "execution_count": 21,
   "metadata": {},
   "outputs": [],
   "source": [
    "bgsMOG = cv2.createBackgroundSubtractorMOG2() "
   ]
  },
  {
   "cell_type": "code",
   "execution_count": 22,
   "metadata": {},
   "outputs": [],
   "source": [
    "cap    = cv2.VideoCapture(\"video.avi\")"
   ]
  },
  {
   "cell_type": "code",
   "execution_count": 24,
   "metadata": {},
   "outputs": [],
   "source": [
    "\n",
    "counter = 0\n",
    "\n",
    "if cap:\n",
    "    while True:\n",
    "        ret, frame = cap.read()\n",
    "\n",
    "        if ret:            \n",
    "            fgmask = bgsMOG.apply(frame, None, 0.01)\n",
    "            cv2.line(frame,(0,60),(160,60),(255,255,0),1)\n",
    "            # To find the countours of the Cars\n",
    "            contours, hierarchy = cv2.findContours(fgmask,cv2.RETR_EXTERNAL,cv2.CHAIN_APPROX_SIMPLE)[-2:]\n",
    "\n",
    "            try:\n",
    "                hierarchy = hierarchy[0]\n",
    "\n",
    "            except:\n",
    "                hierarchy = []\n",
    "\n",
    "            for contour, hier in zip(contours, hierarchy):\n",
    "                (x, y, w, h) = cv2.boundingRect(contour)\n",
    "\n",
    "                if w > 20 and h > 20:\n",
    "                    cv2.rectangle(frame, (x,y), (x+w,y+h), (255, 0, 0), 1)\n",
    "\n",
    "                    #To find centroid of the Car\n",
    "                    x1 = w/2      \n",
    "                    y1 = h/2\n",
    "\n",
    "                    cx = x+x1\n",
    "                    cy = y+y1\n",
    "##                    print \"cy=\", cy\n",
    "##                    print \"cx=\", cx\n",
    "                    centroid = (cx,cy)\n",
    "##                    print \"centoid=\", centroid\n",
    "                    # Draw the circle of Centroid\n",
    "                    cv2.circle(frame,(int(cx),int(cy)),2,(0,0,255),-1)\n",
    "\n",
    "                    # To make sure the Car crosses the line\n",
    "##                    dy = cy-108\n",
    "##                    print \"dy\", dy\n",
    "                    if centroid > (27, 38) and centroid < (134, 108):\n",
    "##                        if (cx <= 132)and(cx >= 20):\n",
    "                        counter +=1\n",
    "##                            print \"counter=\", counter\n",
    "##                    if cy > 10 and cy < 160:\n",
    "                    cv2.putText(frame, str(counter), (x,y-5),\n",
    "                                        cv2.FONT_HERSHEY_SIMPLEX,\n",
    "                                        0.5, (255, 0, 255), 2)\n",
    "##            cv2.namedWindow('Output',cv2.cv.CV_WINDOW_NORMAL)\n",
    "            cv2.imshow('Output', frame)\n",
    "##          cv2.imshow('FGMASK', fgmask)\n",
    "\n",
    "\n",
    "            key = cv2.waitKey(60)\n",
    "            if key == 27:\n",
    "                break\n",
    "\n",
    "cap.release()\n",
    "cv2.destroyAllWindows()\n"
   ]
  },
  {
   "cell_type": "code",
   "execution_count": null,
   "metadata": {},
   "outputs": [],
   "source": []
  },
  {
   "cell_type": "code",
   "execution_count": null,
   "metadata": {},
   "outputs": [],
   "source": []
  },
  {
   "cell_type": "code",
   "execution_count": null,
   "metadata": {},
   "outputs": [],
   "source": []
  }
 ],
 "metadata": {
  "kernelspec": {
   "display_name": "Python 3",
   "language": "python",
   "name": "python3"
  },
  "language_info": {
   "codemirror_mode": {
    "name": "ipython",
    "version": 3
   },
   "file_extension": ".py",
   "mimetype": "text/x-python",
   "name": "python",
   "nbconvert_exporter": "python",
   "pygments_lexer": "ipython3",
   "version": "3.7.6"
  }
 },
 "nbformat": 4,
 "nbformat_minor": 4
}
