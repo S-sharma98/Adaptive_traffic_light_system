{
 "cells": [
  {
   "cell_type": "code",
   "execution_count": 8,
   "metadata": {},
   "outputs": [],
   "source": [
    "import sys\n",
    "import time"
   ]
  },
  {
   "cell_type": "code",
   "execution_count": 9,
   "metadata": {},
   "outputs": [],
   "source": [
    "def calculate_timings(vehicle_count , Maximum_time):\n",
    "    # time of green signal = t\n",
    "    y = 3 * vehicle_count\n",
    "    if vehicle_count < 5:\n",
    "        t = 10\n",
    "    else:\n",
    "        if y > Maximum_time:\n",
    "            t= Maximum_time\n",
    "        else:\n",
    "            t = y\n",
    "    return t        \n",
    "    "
   ]
  },
  {
   "cell_type": "code",
   "execution_count": 10,
   "metadata": {},
   "outputs": [],
   "source": [
    "#defining variables\n",
    "cnt = 1\n",
    "cnt1 = 0\n",
    "m = int(70)"
   ]
  },
  {
   "cell_type": "code",
   "execution_count": 12,
   "metadata": {},
   "outputs": [
    {
     "name": "stdout",
     "output_type": "stream",
     "text": [
      "70\n"
     ]
    }
   ],
   "source": [
    "# minimum limit of maximum time\n",
    "T = int(input())"
   ]
  },
  {
   "cell_type": "code",
   "execution_count": 13,
   "metadata": {},
   "outputs": [],
   "source": [
    "vehicles=[20,26,17,18,11,14,15,17,1,2,4,30]"
   ]
  },
  {
   "cell_type": "code",
   "execution_count": 14,
   "metadata": {},
   "outputs": [],
   "source": [
    "def profit_time(T , len_green_time):\n",
    "    p = T - len_green_time\n",
    "    return p"
   ]
  },
  {
   "cell_type": "code",
   "execution_count": 15,
   "metadata": {},
   "outputs": [
    {
     "name": "stdout",
     "output_type": "stream",
     "text": [
      "len1 - green -  60\n",
      "len2 - red -  60\n",
      "len3 - red -  140\n",
      "len4 - red -  210\n",
      "\n",
      "\n",
      "len1 - red -  210\n",
      "len2 - green -  78\n",
      "len3 - red -  78\n",
      "len4 - red -  150\n",
      "\n",
      "\n",
      "len1 - red -  132\n",
      "len2 - red -  210\n",
      "len3 - green -  51\n",
      "len4 - red -  51\n",
      "\n",
      "\n",
      "len1 - red -  54\n",
      "len2 - red -  159\n",
      "len3 - red -  210\n",
      "len4 - green -  54\n",
      "\n",
      "\n",
      "len1 - green -  33\n",
      "len2 - red -  33\n",
      "len3 - red -  140\n",
      "len4 - red -  210\n",
      "\n",
      "\n",
      "len1 - red -  210\n",
      "len2 - green -  42\n",
      "len3 - red -  42\n",
      "len4 - red -  177\n",
      "\n",
      "\n",
      "len1 - red -  168\n",
      "len2 - red -  210\n",
      "len3 - green -  45\n",
      "len4 - red -  45\n",
      "\n",
      "\n",
      "len1 - red -  51\n",
      "len2 - red -  165\n",
      "len3 - red -  210\n",
      "len4 - green -  51\n",
      "\n",
      "\n",
      "len1 - green -  10\n",
      "len2 - red -  10\n",
      "len3 - red -  140\n",
      "len4 - red -  210\n",
      "\n",
      "\n",
      "len1 - red -  210\n",
      "len2 - green -  10\n",
      "len3 - red -  10\n",
      "len4 - red -  200\n",
      "\n",
      "\n",
      "len1 - red -  200\n",
      "len2 - red -  210\n",
      "len3 - green -  10\n",
      "len4 - red -  10\n",
      "\n",
      "\n",
      "len1 - red -  90\n",
      "len2 - red -  200\n",
      "len3 - red -  210\n",
      "len4 - green -  90\n",
      "\n",
      "\n"
     ]
    }
   ],
   "source": [
    "for N in vehicles:\n",
    "    p = profit_time(T, m)\n",
    "    x = cnt - cnt1\n",
    "    if x ==1:\n",
    "        n = calculate_timings(N , T+p)\n",
    "        t1 = n\n",
    "        t2 = n\n",
    "        t3 = 2*T\n",
    "        t4 = 3*T\n",
    "        for i in range(1):\n",
    "            print(\"len1 - green - \" , t1)\n",
    "            print(\"len2 - red - \" , t2)\n",
    "            print(\"len3 - red - \" , t3)\n",
    "            print(\"len4 - red - \" , t4)\n",
    "        m = n\n",
    "        p = profit_time(T, m)\n",
    "        cnt += 1\n",
    "        print(\"\\n\")\n",
    "    \n",
    "    if x == 2:\n",
    "        n = calculate_timings(N , T+p)\n",
    "        t1 = 3*T\n",
    "        t2 = n\n",
    "        t3 = n\n",
    "        t4 = (3*T - m)\n",
    "        for i in range(1):\n",
    "            print(\"len1 - red - \" , t1)\n",
    "            print(\"len2 - green - \" , t2)\n",
    "            print(\"len3 - red - \" , t3)\n",
    "            print(\"len4 - red - \" , t4)\n",
    "    \n",
    "    \n",
    "        m = n\n",
    "        p = profit_time(T, m)\n",
    "        cnt += 1\n",
    "        print(\"\\n\")\n",
    "    \n",
    "    if x == 3:\n",
    "        n = calculate_timings(N , T+p)\n",
    "        t1 = (3*T - m)\n",
    "        t2 = 3*T\n",
    "        t3 = n\n",
    "        t4 = n\n",
    "        for i in range(1):\n",
    "            print(\"len1 - red - \" , t1)\n",
    "            print(\"len2 - red - \" , t2)\n",
    "            print(\"len3 - green - \" , t3)\n",
    "            print(\"len4 - red - \" , t4)\n",
    "    \n",
    "        \n",
    "        m = n\n",
    "        p = profit_time(T, m)\n",
    "        cnt += 1\n",
    "        print(\"\\n\")\n",
    "    \n",
    "    if x == 4:\n",
    "        n = calculate_timings(N , T+p)\n",
    "        t1 = n\n",
    "        t2 = (3*T - m)\n",
    "        t3 = 3*T\n",
    "        t4 = n\n",
    "        for i in range(1):\n",
    "            print(\"len1 - red - \" , t1)\n",
    "            print(\"len2 - red - \" , t2)\n",
    "            print(\"len3 - red - \" , t3)\n",
    "            print(\"len4 - green - \" , t4)\n",
    "            \n",
    "        cnt= 1\n",
    "        print(\"\\n\")\n",
    "            \n",
    "            "
   ]
  },
  {
   "cell_type": "code",
   "execution_count": null,
   "metadata": {},
   "outputs": [],
   "source": []
  }
 ],
 "metadata": {
  "kernelspec": {
   "display_name": "Python 3",
   "language": "python",
   "name": "python3"
  },
  "language_info": {
   "codemirror_mode": {
    "name": "ipython",
    "version": 3
   },
   "file_extension": ".py",
   "mimetype": "text/x-python",
   "name": "python",
   "nbconvert_exporter": "python",
   "pygments_lexer": "ipython3",
   "version": "3.7.6"
  }
 },
 "nbformat": 4,
 "nbformat_minor": 4
}
